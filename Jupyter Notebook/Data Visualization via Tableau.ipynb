{
 "cells": [
  {
   "cell_type": "markdown",
   "id": "0699bf66",
   "metadata": {},
   "source": [
    "# Data Visualization via Tableau\n",
    "\n",
    "Dataset from Kaggle: **\"US Accidents (2016-2021)\"** by *Sobhan Moosavi*\\\n",
    "Source: https://www.kaggle.com/sobhanmoosavi/us-accidents \\\n",
    "Description of data available at https://smoosavi.org/datasets/us_accidents.\n",
    "\n",
    "---\n",
    "\n",
    "We have already tried out data visualization using ```seaborn``` library. Now, we provide an alternative of data visualization using **Tableau**. The data used here are the cleaned data (us_accident_2016_cleaned.csv).\n",
    "\n",
    "---\n",
    "\n",
    "What is **Tableau**?\\\n",
    "Tableau is a *visual analytics platform* transforming the way we use data to solve problems—empowering people and organizations to make the most of their data. It is used in the field of *business intelligence*.\\\n",
    "More details at: https://www.tableau.com/why-tableau/what-is-tableau\n"
   ]
  },
  {
   "cell_type": "markdown",
   "id": "d908661a",
   "metadata": {},
   "source": [
    "## A Guideline to Navigate the Tableau Workbook Below\n",
    "\n",
    "There are three types of Viz sheets below: **Worksheet**, **Dashboard**, **Story**. We want you to focus on the **Story** sheets where we have made a summary for the respective categories.\n",
    "\n",
    "---\n",
    "\n",
    "### Worksheet\n",
    "For each of the worksheets, we have provided a relevant filter(s) for (optional) selective visualizations. Do try them out.\n",
    "- Side vs Severity: distribution of side with severity as labels\n",
    "- State vs Severity: distribution of State with severity as labels\n",
    "- WC vs Severity: distribution of Weather Condition with severity as labels\n",
    "- Crossing vs Severity: distribution of Crossing with severity as labels\n",
    "- Junction vs Severity: distribution of Junction with severity as labels\n",
    "- TS vs Severity: distribution of Traffic Signal with severity as labels\n",
    "- DN vs Severity: distribution of Day Night with severity as labels\n",
    "\n",
    "- Month vs Count: distribution of accident occurence wrt month\n",
    "- DoW vs Count: distribution of accident occurence wrt day of week\n",
    "- Hour vs Count: distribution of accident occurence wrt hour\n",
    "\n",
    "- Severity: pie chart of severity distribution\n",
    "- Severity (2): bar chart of severity distribution \n",
    "- Severity (3): highlight table of severity distribution\n",
    "- Distance: boxplot of distance distribution\n",
    "- Distance (2): histogram of distance distribution\n",
    "- Distance vs Severity: boxplot of distance separated into different levels of severity\n",
    "\n",
    "- Temperature: boxplot of temperature distribution\n",
    "- Temperature (2): histogram of temperature distribution\n",
    "- Humidity: boxplot of humidity distribution\n",
    "- Humidity (2): histogram of humidity distribution\n",
    "- Pressure: boxplot of pressure distribution\n",
    "- Pressure (2): histogram of pressure distribution\n",
    "- Wind Speed: boxplot of wind speed distribution\n",
    "- Wind Speed (2): histogram of wind speed distribution\n",
    "\n",
    "- Map: geospatial visualization of accident occurence in the US\n",
    "\n",
    "\n",
    "### Dashboard\n",
    "A summary of all worksheets in the respective categories.\n",
    "- Categorical Variables vs Severity: summary of all categorical variables with severity as labels\n",
    "- Time vs Count: distribution of accident occurence wrt different dimensions of time\n",
    "- Overview of Response Variables: summary of all response variables: distance and severity\n",
    "- Overview of Numeric Predictors: summary of all numeric predictors\n",
    "- Map Dashboard:geospatial visualization of accident occurence in the US \n",
    "\n",
    "\n",
    "### Story\n",
    "Similar to dashboard, but with title and caption.\n",
    "- Categorical Variables vs Severity Story: summary of all categorical variables with severity as labels\n",
    "- Time vs Count Story: distribution of accident occurence wrt different dimensions of time\n",
    "- Overview of Response Variables Story: summary of all response variables: distance and severity\n",
    "- Overview of Numeric Predictors Story: summary of all numeric predictors\n",
    "- Map Story: geospatial visualization of accident occurence in the US\n",
    "\n",
    "\n",
    "### Recommended Order to Visualize the Data\n",
    "1. Map Story\n",
    "2. Overview of Response Variables Story\n",
    "3. Overview of Numeric Predictors Story\n",
    "4. Categorical Variables vs Severity Story\n",
    "5. Time vs Count Story\n",
    "\n",
    "Hover your cursor around the data to view the details."
   ]
  },
  {
   "cell_type": "code",
   "execution_count": 1,
   "id": "f51336f8",
   "metadata": {},
   "outputs": [
    {
     "data": {
      "text/html": [
       "<div class='tableauPlaceholder' id='viz1649301673871' style='position: relative'><noscript><a href='#'><img alt=' ' src='https:&#47;&#47;public.tableau.com&#47;static&#47;images&#47;Bo&#47;Book1_16493014039200&#47;CategoricalPredictorsvsSeverityStory&#47;1_rss.png' style='border: none' /></a></noscript><object class='tableauViz'  style='display:none;'><param name='host_url' value='https%3A%2F%2Fpublic.tableau.com%2F' /> <param name='embed_code_version' value='3' /> <param name='site_root' value='' /><param name='name' value='Book1_16493014039200&#47;CategoricalPredictorsvsSeverityStory' /><param name='tabs' value='yes' /><param name='toolbar' value='yes' /><param name='static_image' value='https:&#47;&#47;public.tableau.com&#47;static&#47;images&#47;Bo&#47;Book1_16493014039200&#47;CategoricalPredictorsvsSeverityStory&#47;1.png' /> <param name='animate_transition' value='yes' /><param name='display_static_image' value='yes' /><param name='display_spinner' value='yes' /><param name='display_overlay' value='yes' /><param name='display_count' value='yes' /><param name='language' value='en-US' /><param name='filter' value='publish=yes' /></object></div>                <script type='text/javascript'>                    var divElement = document.getElementById('viz1649301673871');                    var vizElement = divElement.getElementsByTagName('object')[0];                    vizElement.style.width='100%';vizElement.style.height=(divElement.offsetWidth*0.75)+'px';                    var scriptElement = document.createElement('script');                    scriptElement.src = 'https://public.tableau.com/javascripts/api/viz_v1.js';                    vizElement.parentNode.insertBefore(scriptElement, vizElement);                </script>\n"
      ],
      "text/plain": [
       "<IPython.core.display.HTML object>"
      ]
     },
     "metadata": {},
     "output_type": "display_data"
    }
   ],
   "source": [
    "%%html\n",
    "<div class='tableauPlaceholder' id='viz1649301673871' style='position: relative'><noscript><a href='#'><img alt=' ' src='https:&#47;&#47;public.tableau.com&#47;static&#47;images&#47;Bo&#47;Book1_16493014039200&#47;CategoricalPredictorsvsSeverityStory&#47;1_rss.png' style='border: none' /></a></noscript><object class='tableauViz'  style='display:none;'><param name='host_url' value='https%3A%2F%2Fpublic.tableau.com%2F' /> <param name='embed_code_version' value='3' /> <param name='site_root' value='' /><param name='name' value='Book1_16493014039200&#47;CategoricalPredictorsvsSeverityStory' /><param name='tabs' value='yes' /><param name='toolbar' value='yes' /><param name='static_image' value='https:&#47;&#47;public.tableau.com&#47;static&#47;images&#47;Bo&#47;Book1_16493014039200&#47;CategoricalPredictorsvsSeverityStory&#47;1.png' /> <param name='animate_transition' value='yes' /><param name='display_static_image' value='yes' /><param name='display_spinner' value='yes' /><param name='display_overlay' value='yes' /><param name='display_count' value='yes' /><param name='language' value='en-US' /><param name='filter' value='publish=yes' /></object></div>                <script type='text/javascript'>                    var divElement = document.getElementById('viz1649301673871');                    var vizElement = divElement.getElementsByTagName('object')[0];                    vizElement.style.width='100%';vizElement.style.height=(divElement.offsetWidth*0.75)+'px';                    var scriptElement = document.createElement('script');                    scriptElement.src = 'https://public.tableau.com/javascripts/api/viz_v1.js';                    vizElement.parentNode.insertBefore(scriptElement, vizElement);                </script>"
   ]
  },
  {
   "cell_type": "code",
   "execution_count": null,
   "id": "2421a3c3",
   "metadata": {},
   "outputs": [],
   "source": []
  }
 ],
 "metadata": {
  "kernelspec": {
   "display_name": "Python 3 (ipykernel)",
   "language": "python",
   "name": "python3"
  },
  "language_info": {
   "codemirror_mode": {
    "name": "ipython",
    "version": 3
   },
   "file_extension": ".py",
   "mimetype": "text/x-python",
   "name": "python",
   "nbconvert_exporter": "python",
   "pygments_lexer": "ipython3",
   "version": "3.9.7"
  }
 },
 "nbformat": 4,
 "nbformat_minor": 5
}
