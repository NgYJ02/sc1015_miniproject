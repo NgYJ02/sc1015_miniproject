{
 "cells": [
  {
   "cell_type": "markdown",
   "id": "77d3c7e1",
   "metadata": {},
   "source": [
    "# Machine Learning 2\n",
    "\n",
    "Dataset from Kaggle: **\"US Accidents (2016-2021)\"** by *Sobhan Moosavi*\\\n",
    "Source: https://www.kaggle.com/sobhanmoosavi/us-accidents \\\n",
    "Description of data available at https://smoosavi.org/datasets/us_accidents.\n",
    "\n",
    "---\n",
    "\n",
    "We have previously tried out using upsampled data to build our machine learning model for ```SEVERITY``` prediction. Now, we do not **upsample** the data, instead we use two models from ```imblearn```: ```BalancedBaggingClassifier``` & ```BalancedRandomForestClassifier```, to perform our prediction.\n",
    "    \n",
    "We will use the **ohe-ed** data from the previous ipynb file, which categorical variables are encoded as **one-hot numeric arrays**.\n",
    "\n",
    "Imbalanced-learn (imported as ```imblearn```) is an open source, MIT-licensed library relying on scikit-learn (imported as ```sklearn```) and provides tools when dealing with classification with imbalanced classes.\n",
    "Link to learn more about ```imblearn```: https://imbalanced-learn.org/stable/\n",
    "\n",
    "---\n",
    "\n",
    "The two models mentioned above are from ```imblearn``` ```ensemble``` library.\n",
    "\n",
    "```Ensemble``` learning gives credence to the idea of the **“wisdom of crowds”**, which suggests that the decision-making of a larger group of people is typically better than that of an individual expert. Similarly, ```ensemble``` learning refers to a group (or ```ensemble```) of base learners, or models, which work collectively to achieve a better final prediction. A single model, also known as a *base or weak learner*, may not perform well individually due to *high variance or high bias*. However, when weak learners are aggregated, they can form a strong learner, as their combination *reduces bias or variance, yielding better model performance*.\n"
   ]
  },
  {
   "cell_type": "markdown",
   "id": "6d9c42f5",
   "metadata": {},
   "source": [
    "## Data Preparation"
   ]
  },
  {
   "cell_type": "markdown",
   "id": "1627137e",
   "metadata": {},
   "source": [
    "We first import the essential Python libraries."
   ]
  },
  {
   "cell_type": "code",
   "execution_count": 1,
   "id": "91fd732d",
   "metadata": {},
   "outputs": [
    {
     "data": {
      "text/plain": [
       "<function seaborn.rcmod.set(*args, **kwargs)>"
      ]
     },
     "execution_count": 1,
     "metadata": {},
     "output_type": "execute_result"
    }
   ],
   "source": [
    "import numpy as np\n",
    "import pandas as pd\n",
    "import seaborn as sb\n",
    "import matplotlib.pyplot as plt\n",
    "sb.set"
   ]
  },
  {
   "cell_type": "markdown",
   "id": "fdde9c2c",
   "metadata": {},
   "source": [
    "Import the file **us_16_acd_ohe.csv** which contains the ohe-ed data, but not upsampled."
   ]
  },
  {
   "cell_type": "code",
   "execution_count": 2,
   "id": "9e809cb8",
   "metadata": {},
   "outputs": [
    {
     "data": {
      "text/html": [
       "<div>\n",
       "<style scoped>\n",
       "    .dataframe tbody tr th:only-of-type {\n",
       "        vertical-align: middle;\n",
       "    }\n",
       "\n",
       "    .dataframe tbody tr th {\n",
       "        vertical-align: top;\n",
       "    }\n",
       "\n",
       "    .dataframe thead th {\n",
       "        text-align: right;\n",
       "    }\n",
       "</style>\n",
       "<table border=\"1\" class=\"dataframe\">\n",
       "  <thead>\n",
       "    <tr style=\"text-align: right;\">\n",
       "      <th></th>\n",
       "      <th>TEMPERATURE</th>\n",
       "      <th>HUMIDITY</th>\n",
       "      <th>PRESSURE</th>\n",
       "      <th>WIND_SPEED</th>\n",
       "      <th>SIDE_L</th>\n",
       "      <th>SIDE_R</th>\n",
       "      <th>STATE_Alabama</th>\n",
       "      <th>STATE_Arizona</th>\n",
       "      <th>STATE_Arkansas</th>\n",
       "      <th>STATE_California</th>\n",
       "      <th>...</th>\n",
       "      <th>CROSSING_False</th>\n",
       "      <th>CROSSING_True</th>\n",
       "      <th>JUNCTION_False</th>\n",
       "      <th>JUNCTION_True</th>\n",
       "      <th>TRAFFIC_SIGNAL_False</th>\n",
       "      <th>TRAFFIC_SIGNAL_True</th>\n",
       "      <th>DAY_NIGHT_Day</th>\n",
       "      <th>DAY_NIGHT_Night</th>\n",
       "      <th>DAY_NIGHT_NotDefined</th>\n",
       "      <th>SEVERITY</th>\n",
       "    </tr>\n",
       "  </thead>\n",
       "  <tbody>\n",
       "    <tr>\n",
       "      <th>0</th>\n",
       "      <td>36.9</td>\n",
       "      <td>91.0</td>\n",
       "      <td>29.68</td>\n",
       "      <td>7.0</td>\n",
       "      <td>0.0</td>\n",
       "      <td>1.0</td>\n",
       "      <td>0.0</td>\n",
       "      <td>0.0</td>\n",
       "      <td>0.0</td>\n",
       "      <td>0.0</td>\n",
       "      <td>...</td>\n",
       "      <td>1.0</td>\n",
       "      <td>0.0</td>\n",
       "      <td>1.0</td>\n",
       "      <td>0.0</td>\n",
       "      <td>1.0</td>\n",
       "      <td>0.0</td>\n",
       "      <td>0.0</td>\n",
       "      <td>1.0</td>\n",
       "      <td>0.0</td>\n",
       "      <td>2</td>\n",
       "    </tr>\n",
       "    <tr>\n",
       "      <th>1</th>\n",
       "      <td>36.0</td>\n",
       "      <td>97.0</td>\n",
       "      <td>29.70</td>\n",
       "      <td>7.0</td>\n",
       "      <td>0.0</td>\n",
       "      <td>1.0</td>\n",
       "      <td>0.0</td>\n",
       "      <td>0.0</td>\n",
       "      <td>0.0</td>\n",
       "      <td>0.0</td>\n",
       "      <td>...</td>\n",
       "      <td>1.0</td>\n",
       "      <td>0.0</td>\n",
       "      <td>0.0</td>\n",
       "      <td>1.0</td>\n",
       "      <td>1.0</td>\n",
       "      <td>0.0</td>\n",
       "      <td>0.0</td>\n",
       "      <td>1.0</td>\n",
       "      <td>0.0</td>\n",
       "      <td>2</td>\n",
       "    </tr>\n",
       "    <tr>\n",
       "      <th>2</th>\n",
       "      <td>39.0</td>\n",
       "      <td>55.0</td>\n",
       "      <td>29.65</td>\n",
       "      <td>7.0</td>\n",
       "      <td>0.0</td>\n",
       "      <td>1.0</td>\n",
       "      <td>0.0</td>\n",
       "      <td>0.0</td>\n",
       "      <td>0.0</td>\n",
       "      <td>0.0</td>\n",
       "      <td>...</td>\n",
       "      <td>1.0</td>\n",
       "      <td>0.0</td>\n",
       "      <td>1.0</td>\n",
       "      <td>0.0</td>\n",
       "      <td>1.0</td>\n",
       "      <td>0.0</td>\n",
       "      <td>0.0</td>\n",
       "      <td>1.0</td>\n",
       "      <td>0.0</td>\n",
       "      <td>2</td>\n",
       "    </tr>\n",
       "    <tr>\n",
       "      <th>3</th>\n",
       "      <td>37.0</td>\n",
       "      <td>93.0</td>\n",
       "      <td>29.69</td>\n",
       "      <td>10.4</td>\n",
       "      <td>0.0</td>\n",
       "      <td>1.0</td>\n",
       "      <td>0.0</td>\n",
       "      <td>0.0</td>\n",
       "      <td>0.0</td>\n",
       "      <td>0.0</td>\n",
       "      <td>...</td>\n",
       "      <td>1.0</td>\n",
       "      <td>0.0</td>\n",
       "      <td>1.0</td>\n",
       "      <td>0.0</td>\n",
       "      <td>1.0</td>\n",
       "      <td>0.0</td>\n",
       "      <td>1.0</td>\n",
       "      <td>0.0</td>\n",
       "      <td>0.0</td>\n",
       "      <td>3</td>\n",
       "    </tr>\n",
       "    <tr>\n",
       "      <th>4</th>\n",
       "      <td>35.6</td>\n",
       "      <td>100.0</td>\n",
       "      <td>29.66</td>\n",
       "      <td>8.1</td>\n",
       "      <td>0.0</td>\n",
       "      <td>1.0</td>\n",
       "      <td>0.0</td>\n",
       "      <td>0.0</td>\n",
       "      <td>0.0</td>\n",
       "      <td>0.0</td>\n",
       "      <td>...</td>\n",
       "      <td>1.0</td>\n",
       "      <td>0.0</td>\n",
       "      <td>1.0</td>\n",
       "      <td>0.0</td>\n",
       "      <td>0.0</td>\n",
       "      <td>1.0</td>\n",
       "      <td>1.0</td>\n",
       "      <td>0.0</td>\n",
       "      <td>0.0</td>\n",
       "      <td>2</td>\n",
       "    </tr>\n",
       "  </tbody>\n",
       "</table>\n",
       "<p>5 rows × 80 columns</p>\n",
       "</div>"
      ],
      "text/plain": [
       "   TEMPERATURE  HUMIDITY  PRESSURE  WIND_SPEED  SIDE_L  SIDE_R  STATE_Alabama  \\\n",
       "0         36.9      91.0     29.68         7.0     0.0     1.0            0.0   \n",
       "1         36.0      97.0     29.70         7.0     0.0     1.0            0.0   \n",
       "2         39.0      55.0     29.65         7.0     0.0     1.0            0.0   \n",
       "3         37.0      93.0     29.69        10.4     0.0     1.0            0.0   \n",
       "4         35.6     100.0     29.66         8.1     0.0     1.0            0.0   \n",
       "\n",
       "   STATE_Arizona  STATE_Arkansas  STATE_California  ...  CROSSING_False  \\\n",
       "0            0.0             0.0               0.0  ...             1.0   \n",
       "1            0.0             0.0               0.0  ...             1.0   \n",
       "2            0.0             0.0               0.0  ...             1.0   \n",
       "3            0.0             0.0               0.0  ...             1.0   \n",
       "4            0.0             0.0               0.0  ...             1.0   \n",
       "\n",
       "   CROSSING_True  JUNCTION_False  JUNCTION_True  TRAFFIC_SIGNAL_False  \\\n",
       "0            0.0             1.0            0.0                   1.0   \n",
       "1            0.0             0.0            1.0                   1.0   \n",
       "2            0.0             1.0            0.0                   1.0   \n",
       "3            0.0             1.0            0.0                   1.0   \n",
       "4            0.0             1.0            0.0                   0.0   \n",
       "\n",
       "   TRAFFIC_SIGNAL_True  DAY_NIGHT_Day  DAY_NIGHT_Night  DAY_NIGHT_NotDefined  \\\n",
       "0                  0.0            0.0              1.0                   0.0   \n",
       "1                  0.0            0.0              1.0                   0.0   \n",
       "2                  0.0            0.0              1.0                   0.0   \n",
       "3                  0.0            1.0              0.0                   0.0   \n",
       "4                  1.0            1.0              0.0                   0.0   \n",
       "\n",
       "   SEVERITY  \n",
       "0         2  \n",
       "1         2  \n",
       "2         2  \n",
       "3         3  \n",
       "4         2  \n",
       "\n",
       "[5 rows x 80 columns]"
      ]
     },
     "execution_count": 2,
     "metadata": {},
     "output_type": "execute_result"
    }
   ],
   "source": [
    "us_16_acd_ohe=pd.read_csv('us_16_acd_ohe.csv')\n",
    "us_16_acd_ohe.head()"
   ]
  },
  {
   "cell_type": "markdown",
   "id": "bc738a1a",
   "metadata": {},
   "source": [
    "A glance at the info of our data."
   ]
  },
  {
   "cell_type": "code",
   "execution_count": 3,
   "id": "4bb726ca",
   "metadata": {},
   "outputs": [
    {
     "name": "stdout",
     "output_type": "stream",
     "text": [
      "<class 'pandas.core.frame.DataFrame'>\n",
      "RangeIndex: 114829 entries, 0 to 114828\n",
      "Data columns (total 80 columns):\n",
      " #   Column                           Non-Null Count   Dtype  \n",
      "---  ------                           --------------   -----  \n",
      " 0   TEMPERATURE                      114829 non-null  float64\n",
      " 1   HUMIDITY                         114829 non-null  float64\n",
      " 2   PRESSURE                         114829 non-null  float64\n",
      " 3   WIND_SPEED                       114829 non-null  float64\n",
      " 4   SIDE_L                           114829 non-null  float64\n",
      " 5   SIDE_R                           114829 non-null  float64\n",
      " 6   STATE_Alabama                    114829 non-null  float64\n",
      " 7   STATE_Arizona                    114829 non-null  float64\n",
      " 8   STATE_Arkansas                   114829 non-null  float64\n",
      " 9   STATE_California                 114829 non-null  float64\n",
      " 10  STATE_Colorado                   114829 non-null  float64\n",
      " 11  STATE_Connecticut                114829 non-null  float64\n",
      " 12  STATE_Delaware                   114829 non-null  float64\n",
      " 13  STATE_District of Columbia       114829 non-null  float64\n",
      " 14  STATE_Florida                    114829 non-null  float64\n",
      " 15  STATE_Georgia                    114829 non-null  float64\n",
      " 16  STATE_Idaho                      114829 non-null  float64\n",
      " 17  STATE_Illinois                   114829 non-null  float64\n",
      " 18  STATE_Indiana                    114829 non-null  float64\n",
      " 19  STATE_Iowa                       114829 non-null  float64\n",
      " 20  STATE_Kansas                     114829 non-null  float64\n",
      " 21  STATE_Kentucky                   114829 non-null  float64\n",
      " 22  STATE_Louisiana                  114829 non-null  float64\n",
      " 23  STATE_Maine                      114829 non-null  float64\n",
      " 24  STATE_Maryland                   114829 non-null  float64\n",
      " 25  STATE_Massachusetts              114829 non-null  float64\n",
      " 26  STATE_Michigan                   114829 non-null  float64\n",
      " 27  STATE_Minnesota                  114829 non-null  float64\n",
      " 28  STATE_Mississippi                114829 non-null  float64\n",
      " 29  STATE_Missouri                   114829 non-null  float64\n",
      " 30  STATE_Montana                    114829 non-null  float64\n",
      " 31  STATE_Nebraska                   114829 non-null  float64\n",
      " 32  STATE_Nevada                     114829 non-null  float64\n",
      " 33  STATE_New Hampshire              114829 non-null  float64\n",
      " 34  STATE_New Jersey                 114829 non-null  float64\n",
      " 35  STATE_New Mexico                 114829 non-null  float64\n",
      " 36  STATE_New York                   114829 non-null  float64\n",
      " 37  STATE_North Carolina             114829 non-null  float64\n",
      " 38  STATE_North Dakota               114829 non-null  float64\n",
      " 39  STATE_Ohio                       114829 non-null  float64\n",
      " 40  STATE_Oklahoma                   114829 non-null  float64\n",
      " 41  STATE_Oregon                     114829 non-null  float64\n",
      " 42  STATE_Pennsylvania               114829 non-null  float64\n",
      " 43  STATE_Rhode Island               114829 non-null  float64\n",
      " 44  STATE_South Carolina             114829 non-null  float64\n",
      " 45  STATE_South Dakota               114829 non-null  float64\n",
      " 46  STATE_Tennessee                  114829 non-null  float64\n",
      " 47  STATE_Texas                      114829 non-null  float64\n",
      " 48  STATE_Utah                       114829 non-null  float64\n",
      " 49  STATE_Vermont                    114829 non-null  float64\n",
      " 50  STATE_Virginia                   114829 non-null  float64\n",
      " 51  STATE_Washington                 114829 non-null  float64\n",
      " 52  STATE_West Virginia              114829 non-null  float64\n",
      " 53  STATE_Wisconsin                  114829 non-null  float64\n",
      " 54  STATE_Wyoming                    114829 non-null  float64\n",
      " 55  WEATHER_CONDITION_Clear          114829 non-null  float64\n",
      " 56  WEATHER_CONDITION_Cloudy         114829 non-null  float64\n",
      " 57  WEATHER_CONDITION_Fair           114829 non-null  float64\n",
      " 58  WEATHER_CONDITION_Fog            114829 non-null  float64\n",
      " 59  WEATHER_CONDITION_Heavy Rain     114829 non-null  float64\n",
      " 60  WEATHER_CONDITION_Heavy Snow     114829 non-null  float64\n",
      " 61  WEATHER_CONDITION_Light Rain     114829 non-null  float64\n",
      " 62  WEATHER_CONDITION_Light Snow     114829 non-null  float64\n",
      " 63  WEATHER_CONDITION_Mostly Cloudy  114829 non-null  float64\n",
      " 64  WEATHER_CONDITION_NotDefined     114829 non-null  float64\n",
      " 65  WEATHER_CONDITION_Partly Cloudy  114829 non-null  float64\n",
      " 66  WEATHER_CONDITION_Rain           114829 non-null  float64\n",
      " 67  WEATHER_CONDITION_Snow           114829 non-null  float64\n",
      " 68  WEATHER_CONDITION_Thunder        114829 non-null  float64\n",
      " 69  WEATHER_CONDITION_Tornado        114829 non-null  float64\n",
      " 70  CROSSING_False                   114829 non-null  float64\n",
      " 71  CROSSING_True                    114829 non-null  float64\n",
      " 72  JUNCTION_False                   114829 non-null  float64\n",
      " 73  JUNCTION_True                    114829 non-null  float64\n",
      " 74  TRAFFIC_SIGNAL_False             114829 non-null  float64\n",
      " 75  TRAFFIC_SIGNAL_True              114829 non-null  float64\n",
      " 76  DAY_NIGHT_Day                    114829 non-null  float64\n",
      " 77  DAY_NIGHT_Night                  114829 non-null  float64\n",
      " 78  DAY_NIGHT_NotDefined             114829 non-null  float64\n",
      " 79  SEVERITY                         114829 non-null  int64  \n",
      "dtypes: float64(79), int64(1)\n",
      "memory usage: 70.1 MB\n"
     ]
    }
   ],
   "source": [
    "us_16_acd_ohe.info()"
   ]
  },
  {
   "cell_type": "markdown",
   "id": "2168eb94",
   "metadata": {},
   "source": [
    "We change the data type of ```SEVERITY``` column from ```int64``` to ```category``` as required."
   ]
  },
  {
   "cell_type": "code",
   "execution_count": 4,
   "id": "880a723f",
   "metadata": {},
   "outputs": [],
   "source": [
    "us_16_acd_ohe[\"SEVERITY\"] = us_16_acd_ohe[\"SEVERITY\"].astype(\"category\")"
   ]
  },
  {
   "cell_type": "code",
   "execution_count": null,
   "id": "afbf87e7",
   "metadata": {},
   "outputs": [],
   "source": []
  },
  {
   "cell_type": "markdown",
   "id": "7ad722df",
   "metadata": {},
   "source": [
    "## BalancedBaggingClassifier\n",
    "\n",
    "A ```Bagging``` classifier with additional **balancing**. The implementation of ```Bagging``` is similar to the scikit-learn implementation. It includes an additional step to **balance the training set** at fit time using a given sampler.\\\n",
    "More details at: https://imbalanced-learn.org/stable/references/generated/imblearn.ensemble.BalancedBaggingClassifier.html\n",
    "\n",
    "---\n",
    "\n",
    "What is ```Bagging```?\n",
    "\n",
    "```Bagging```, also known as **bootstrap aggregation**, is the ```ensemble``` learning method that is commonly used to *reduce variance within a noisy dataset*. In ```bagging```, a random sample of data in a training set is selected with replacement—meaning that the individual data points can be chosen more than once. After several data samples are generated, these *weak models are then trained independently*, and depending on the type of task—regression or classification, for example—the average or majority of those predictions yield a **more accurate estimate**.\\\n",
    "More details at: https://www.ibm.com/cloud/learn/bagging#:~:text=Bagging%2C%20also%20known%20as%20bootstrap,be%20chosen%20more%20than%20once."
   ]
  },
  {
   "cell_type": "markdown",
   "id": "b1a67d2c",
   "metadata": {},
   "source": [
    "Import the essential libraries.\n",
    "\n",
    "> train_test_split: Split arrays or matrices into random train and test subsets.\\\n",
    "> DecisionTreeClassifier: A decision tree classifier.\\\n",
    "> plot_tree: Plot a decision tree.\\\n",
    "> confusion_matrix: Compute confusion matrix to evaluate the accuracy of a classification.\\\n",
    "> BalancedBaggingClassifier: A Bagging classifier with additional balancing."
   ]
  },
  {
   "cell_type": "code",
   "execution_count": 5,
   "id": "6ba7bef7",
   "metadata": {},
   "outputs": [],
   "source": [
    "from sklearn.model_selection import train_test_split\n",
    "from sklearn.tree import DecisionTreeClassifier\n",
    "from sklearn.tree import plot_tree\n",
    "from sklearn.metrics import confusion_matrix\n",
    "from imblearn.ensemble import BalancedBaggingClassifier"
   ]
  },
  {
   "cell_type": "code",
   "execution_count": 6,
   "id": "df03bb41",
   "metadata": {},
   "outputs": [],
   "source": [
    "y=pd.DataFrame(us_16_acd_ohe[\"SEVERITY\"])\n",
    "X=pd.DataFrame(us_16_acd_ohe.drop(\"SEVERITY\", axis=1))\n",
    "\n",
    "X_train, X_test, y_train, y_test=train_test_split(X, y, test_size=0.2) #split the data into train:test=8:2"
   ]
  },
  {
   "cell_type": "markdown",
   "id": "76c32897",
   "metadata": {},
   "source": [
    "Create a ```BalancedBaggingClassifier``` object with the following parameters:\n",
    "- base_estimator: DecisionTreeClassifier\n",
    "- sampling_strategy: auto (equivalent to 'not minority')\n",
    "- replacement: False\n",
    "- random_state: None\n",
    "- Leaving other parameters as default\n",
    "\n",
    "Fit the model using the **train** data."
   ]
  },
  {
   "cell_type": "code",
   "execution_count": 7,
   "id": "c5b3ec2e",
   "metadata": {},
   "outputs": [
    {
     "data": {
      "text/plain": [
       "BalancedBaggingClassifier(base_estimator=DecisionTreeClassifier())"
      ]
     },
     "execution_count": 7,
     "metadata": {},
     "output_type": "execute_result"
    }
   ],
   "source": [
    "bbc=BalancedBaggingClassifier(base_estimator=DecisionTreeClassifier(),\n",
    "                             sampling_strategy='auto',\n",
    "                             replacement=False,\n",
    "                             random_state=None)\n",
    "\n",
    "bbc.fit(X_train, y_train.SEVERITY.ravel())"
   ]
  },
  {
   "cell_type": "markdown",
   "id": "8a52c6cc",
   "metadata": {},
   "source": [
    "Predict the **train** data using the model we trained just now. Plot the **heatmap of confusion matrix**.\n",
    "\n",
    "| Confusion Matrix  |       |        |        |      \n",
    "| :---              | :---: | :----: | :----: |         \n",
    "| Actual 2   |  True 2   |  False 2  |   False 2   |             \n",
    "| Actual 3   |  False 3  |  True 3   |   False 3   |  \n",
    "| Actual 4   |  False 4  |  False 4  |   True 4    |    \n",
    "|                   | Predicted 2 | Predicted 3 | Predicted 4 |  \n"
   ]
  },
  {
   "cell_type": "code",
   "execution_count": 8,
   "id": "82350711",
   "metadata": {},
   "outputs": [
    {
     "data": {
      "text/plain": [
       "<AxesSubplot:>"
      ]
     },
     "execution_count": 8,
     "metadata": {},
     "output_type": "execute_result"
    },
    {
     "data": {
      "image/png": "[encoded data removed]",
      "text/plain": [
       "<Figure size 432x288 with 2 Axes>"
      ]
     },
     "metadata": {
      "needs_background": "light"
     },
     "output_type": "display_data"
    }
   ],
   "source": [
    "y_train_pred=bbc.predict(X_train)\n",
    "\n",
    "sb.heatmap(confusion_matrix(y_train, y_train_pred), \n",
    "           annot = True, fmt=\".0f\", annot_kws={\"size\": 18})"
   ]
  },
  {
   "cell_type": "code",
   "execution_count": 9,
   "id": "9641e2fe",
   "metadata": {},
   "outputs": [
    {
     "name": "stdout",
     "output_type": "stream",
     "text": [
      "Train Data\n",
      "Accuracy  :\t 0.7889683550504556\n",
      "\n",
      "True 2 Train :\t 0.7450542822677925\n",
      "False 2 Train :\t 0.2549457177322075\n",
      "\n",
      "True 3 Train :\t 0.8617866308199926\n",
      "False 3 Train :\t 0.13821336918000734\n",
      "\n",
      "True 4 Train :\t 0.9764628963713632\n",
      "False 4 Train :\t 0.02353710362863681\n",
      "\n"
     ]
    }
   ],
   "source": [
    "print(\"Train Data\")\n",
    "print(\"Accuracy  :\\t\", bbc.score(X_train, y_train))\n",
    "print()\n",
    "\n",
    "cmTrain = confusion_matrix(y_train, y_train_pred)\n",
    "true_2=cmTrain[0][0]\n",
    "true_3=cmTrain[1][1]\n",
    "true_4=cmTrain[2][2]\n",
    "false_2=cmTrain[0][1]+cmTrain[0][2]\n",
    "false_3=cmTrain[1][0]+cmTrain[1][2]\n",
    "false_4=cmTrain[2][0]+cmTrain[2][1]\n",
    "\n",
    "print(\"True 2 Train :\\t\", (true_2/(true_2 + false_2)))\n",
    "print(\"False 2 Train :\\t\", (false_2/(true_2 + false_2)))\n",
    "print()\n",
    "\n",
    "print(\"True 3 Train :\\t\", (true_3/(true_3 + false_3)))\n",
    "print(\"False 3 Train :\\t\", (false_3/(true_3 + false_3)))\n",
    "print()\n",
    "\n",
    "print(\"True 4 Train :\\t\", (true_4/(true_4 + false_4)))\n",
    "print(\"False 4 Train :\\t\", (false_4/(true_4 + false_4)))\n",
    "print()"
   ]
  },
  {
   "cell_type": "markdown",
   "id": "4bacd563",
   "metadata": {},
   "source": [
    "The accuracy of the model improved quite significantly from the previous ```scikitlearn``` ```DecisionTreeClassifier``` models used. For the individual categories, the true rates are also satisfying compared to the previous models. By letting the model to balance the imbalanced data we have, the results are better as we have reduced the variance and bias of the data."
   ]
  },
  {
   "cell_type": "markdown",
   "id": "658ead96",
   "metadata": {},
   "source": [
    "Predict the **test** data using the model we trained just now. Plot the **heatmap of confusion matrix**.\n",
    "\n",
    "| Confusion Matrix  |       |        |        |      \n",
    "| :---              | :---: | :----: | :----: |         \n",
    "| Actual 2   |  True 2   |  False 2  |   False 2   |             \n",
    "| Actual 3   |  False 3  |  True 3   |   False 3   |  \n",
    "| Actual 4   |  False 4  |  False 4  |   True 4    |    \n",
    "|                   | Predicted 2 | Predicted 3 | Predicted 4 |  \n"
   ]
  },
  {
   "cell_type": "code",
   "execution_count": 10,
   "id": "f0d66759",
   "metadata": {},
   "outputs": [
    {
     "data": {
      "text/plain": [
       "<AxesSubplot:>"
      ]
     },
     "execution_count": 10,
     "metadata": {},
     "output_type": "execute_result"
    },
    {
     "data": {
      "image/png": "[encoded data removed]",
      "text/plain": [
       "<Figure size 432x288 with 2 Axes>"
      ]
     },
     "metadata": {
      "needs_background": "light"
     },
     "output_type": "display_data"
    }
   ],
   "source": [
    "y_test_pred = bbc.predict(X_test)\n",
    "\n",
    "sb.heatmap(confusion_matrix(y_test, y_test_pred), \n",
    "           annot = True, fmt=\".0f\", annot_kws={\"size\": 18})"
   ]
  },
  {
   "cell_type": "code",
   "execution_count": 11,
   "id": "8c2bccfe",
   "metadata": {},
   "outputs": [
    {
     "name": "stdout",
     "output_type": "stream",
     "text": [
      "Test Data\n",
      "Accuracy  :\t 0.6035879125664025\n",
      "\n",
      "True 2 Test :\t 0.6405048076923077\n",
      "False 2 Test :\t 0.35949519230769234\n",
      "\n",
      "True 3 Test :\t 0.46915704104202505\n",
      "False 3 Test :\t 0.530842958957975\n",
      "\n",
      "True 4 Test :\t 0.5737704918032787\n",
      "False 4 Test :\t 0.4262295081967213\n",
      "\n"
     ]
    }
   ],
   "source": [
    "print(\"Test Data\")\n",
    "print(\"Accuracy  :\\t\", bbc.score(X_test, y_test))\n",
    "print()\n",
    "\n",
    "cmTest = confusion_matrix(y_test, y_test_pred)\n",
    "true_2_test=cmTest[0][0]\n",
    "true_3_test=cmTest[1][1]\n",
    "true_4_test=cmTest[2][2]\n",
    "false_2_test=cmTest[0][1]+cmTest[0][2]\n",
    "false_3_test=cmTest[1][0]+cmTest[1][2]\n",
    "false_4_test=cmTest[2][0]+cmTest[2][1]\n",
    "\n",
    "print(\"True 2 Test :\\t\", (true_2_test/(true_2_test + false_2_test)))\n",
    "print(\"False 2 Test :\\t\", (false_2_test/(true_2_test + false_2_test)))\n",
    "print()\n",
    "\n",
    "print(\"True 3 Test :\\t\", (true_3_test/(true_3_test + false_3_test)))\n",
    "print(\"False 3 Test :\\t\", (false_3_test/(true_3_test + false_3_test)))\n",
    "print()\n",
    "\n",
    "print(\"True 4 Test :\\t\", (true_4_test/(true_4_test + false_4_test)))\n",
    "print(\"False 4 Test :\\t\", (false_4_test/(true_4_test + false_4_test)))\n",
    "print()"
   ]
  },
  {
   "cell_type": "markdown",
   "id": "c96ca055",
   "metadata": {},
   "source": [
    "The accuracy of the prediction for test data improved a little compared to the previous models. However, it did not give as good result as the train data did. This is probably due to the larger data size in train data making the bagging process more efficient in reducing the variance and bias of the data."
   ]
  },
  {
   "cell_type": "code",
   "execution_count": null,
   "id": "f6ecbae2",
   "metadata": {},
   "outputs": [],
   "source": []
  },
  {
   "cell_type": "markdown",
   "id": "7a161b7d",
   "metadata": {},
   "source": [
    "## BalancedRandomForestClassifier\n",
    "\n",
    "A balanced random forest classifier. A balanced random forest randomly under-samples each bootstrap sample to balance it. Similar to ```RandomForestClassifier``` from scikit-learn but for imbalanced data.\\\n",
    "More details at: https://imbalanced-learn.org/stable/references/generated/imblearn.ensemble.BalancedRandomForestClassifier.html\n"
   ]
  },
  {
   "cell_type": "markdown",
   "id": "eee1d65a",
   "metadata": {},
   "source": [
    "Import the essential library.\n",
    "\n",
    "> BalancedRandomForestClassifier: A balanced random forest classifier.\n",
    "\n",
    "Other libraries are already imported above."
   ]
  },
  {
   "cell_type": "code",
   "execution_count": 12,
   "id": "5250f025",
   "metadata": {},
   "outputs": [],
   "source": [
    "from imblearn.ensemble import BalancedRandomForestClassifier"
   ]
  },
  {
   "cell_type": "code",
   "execution_count": 13,
   "id": "f6963671",
   "metadata": {},
   "outputs": [],
   "source": [
    "y=pd.DataFrame(us_16_acd_ohe[\"SEVERITY\"])\n",
    "X=pd.DataFrame(us_16_acd_ohe.drop(\"SEVERITY\", axis=1))\n",
    "\n",
    "X_train, X_test, y_train, y_test=train_test_split(X, y, test_size=0.2) #split the data into train:test=8:2"
   ]
  },
  {
   "cell_type": "markdown",
   "id": "a9428d33",
   "metadata": {},
   "source": [
    "Create a ```BalancedRandomForestClassifier``` object with the following parameters:\n",
    "- n_estimators: 100\n",
    "- criterion=gini\n",
    "- max_depth=None (nodes are expanded until all leaves are pure or until all leaves contain less than min_samples_split samples - 2 by default)\n",
    "- sampling_strategy=auto\n",
    "- random_state: None (the random number generator is the RandomState instance used by np.random)\n",
    "- Leaving other parameters as default\n",
    "\n",
    "Fit the model using the **train** data."
   ]
  },
  {
   "cell_type": "code",
   "execution_count": 14,
   "id": "54282d55",
   "metadata": {},
   "outputs": [
    {
     "data": {
      "text/plain": [
       "BalancedRandomForestClassifier()"
      ]
     },
     "execution_count": 14,
     "metadata": {},
     "output_type": "execute_result"
    }
   ],
   "source": [
    "brfc=BalancedRandomForestClassifier(n_estimators=100, criterion='gini', max_depth=None,\n",
    "                                    sampling_strategy='auto', random_state=None)\n",
    "\n",
    "brfc.fit(X_train, y_train.SEVERITY.ravel())"
   ]
  },
  {
   "cell_type": "markdown",
   "id": "2dd5f5d7",
   "metadata": {},
   "source": [
    "Predict the **train** data using the model we trained just now. Plot the **heatmap of confusion matrix**.\n",
    "\n",
    "| Confusion Matrix  |       |        |        |      \n",
    "| :---              | :---: | :----: | :----: |         \n",
    "| Actual 2   |  True 2   |  False 2  |   False 2   |             \n",
    "| Actual 3   |  False 3  |  True 3   |   False 3   |  \n",
    "| Actual 4   |  False 4  |  False 4  |   True 4    |    \n",
    "|                   | Predicted 2 | Predicted 3 | Predicted 4 |  "
   ]
  },
  {
   "cell_type": "code",
   "execution_count": 15,
   "id": "36241398",
   "metadata": {},
   "outputs": [
    {
     "data": {
      "text/plain": [
       "<AxesSubplot:>"
      ]
     },
     "execution_count": 15,
     "metadata": {},
     "output_type": "execute_result"
    },
    {
     "data": {
      "image/png": "[encoded data removed]",
      "text/plain": [
       "<Figure size 432x288 with 2 Axes>"
      ]
     },
     "metadata": {
      "needs_background": "light"
     },
     "output_type": "display_data"
    }
   ],
   "source": [
    "y_train_pred=brfc.predict(X_train)\n",
    "\n",
    "sb.heatmap(confusion_matrix(y_train, y_train_pred), \n",
    "           annot = True, fmt=\".0f\", annot_kws={\"size\": 18})"
   ]
  },
  {
   "cell_type": "code",
   "execution_count": 16,
   "id": "8169a2ae",
   "metadata": {},
   "outputs": [
    {
     "name": "stdout",
     "output_type": "stream",
     "text": [
      "Train Data\n",
      "Accuracy  :\t 0.7321337208669432\n",
      "\n",
      "True 2 Train :\t 0.6461408815252886\n",
      "False 2 Train :\t 0.35385911847471146\n",
      "\n",
      "True 3 Train :\t 0.9331204323527605\n",
      "False 3 Train :\t 0.06687956764723946\n",
      "\n",
      "True 4 Train :\t 0.9996713049194696\n",
      "False 4 Train :\t 0.0003286950805302947\n",
      "\n"
     ]
    }
   ],
   "source": [
    "print(\"Train Data\")\n",
    "print(\"Accuracy  :\\t\", brfc.score(X_train, y_train))\n",
    "print()\n",
    "\n",
    "cmTrain = confusion_matrix(y_train, y_train_pred)\n",
    "true_2=cmTrain[0][0]\n",
    "true_3=cmTrain[1][1]\n",
    "true_4=cmTrain[2][2]\n",
    "false_2=cmTrain[0][1]+cmTrain[0][2]\n",
    "false_3=cmTrain[1][0]+cmTrain[1][2]\n",
    "false_4=cmTrain[2][0]+cmTrain[2][1]\n",
    "\n",
    "print(\"True 2 Train :\\t\", (true_2/(true_2 + false_2)))\n",
    "print(\"False 2 Train :\\t\", (false_2/(true_2 + false_2)))\n",
    "print()\n",
    "\n",
    "print(\"True 3 Train :\\t\", (true_3/(true_3 + false_3)))\n",
    "print(\"False 3 Train :\\t\", (false_3/(true_3 + false_3)))\n",
    "print()\n",
    "\n",
    "print(\"True 4 Train :\\t\", (true_4/(true_4 + false_4)))\n",
    "print(\"False 4 Train :\\t\", (false_4/(true_4 + false_4)))\n",
    "print()"
   ]
  },
  {
   "cell_type": "markdown",
   "id": "def36ab6",
   "metadata": {},
   "source": [
    "The accuracy of the model improved quite significantly from the previous ```scikitlearn``` ```RandomForestClassifier``` models used. For the individual categories, the true rates are also satisfying compared to the previous models.\n",
    "\n",
    "When compared to the ```BalancedBaggingClassifier``` model, we have **better** accuracy in predicting *severity level 3 & 4*, but **lower** accuracy in predicting *severity level 2*."
   ]
  },
  {
   "cell_type": "markdown",
   "id": "3bdfc517",
   "metadata": {},
   "source": [
    "Predict the **test** data using the model we trained just now. Plot the **heatmap of confusion matrix**.\n",
    "\n",
    "| Confusion Matrix  |       |        |        |      \n",
    "| :---              | :---: | :----: | :----: |         \n",
    "| Actual 2   |  True 2   |  False 2  |   False 2   |             \n",
    "| Actual 3   |  False 3  |  True 3   |   False 3   |  \n",
    "| Actual 4   |  False 4  |  False 4  |   True 4    |    \n",
    "|                   | Predicted 2 | Predicted 3 | Predicted 4 |  "
   ]
  },
  {
   "cell_type": "code",
   "execution_count": 17,
   "id": "30d41a14",
   "metadata": {},
   "outputs": [
    {
     "data": {
      "text/plain": [
       "<AxesSubplot:>"
      ]
     },
     "execution_count": 17,
     "metadata": {},
     "output_type": "execute_result"
    },
    {
     "data": {
      "image/png": "[encoded data removed]",
      "text/plain": [
       "<Figure size 432x288 with 2 Axes>"
      ]
     },
     "metadata": {
      "needs_background": "light"
     },
     "output_type": "display_data"
    }
   ],
   "source": [
    "y_test_pred = brfc.predict(X_test)\n",
    "\n",
    "sb.heatmap(confusion_matrix(y_test, y_test_pred), \n",
    "           annot = True, fmt=\".0f\", annot_kws={\"size\": 18})"
   ]
  },
  {
   "cell_type": "code",
   "execution_count": 18,
   "id": "36bdec02",
   "metadata": {},
   "outputs": [
    {
     "name": "stdout",
     "output_type": "stream",
     "text": [
      "Test Data\n",
      "Accuracy  :\t 0.5600017417051293\n",
      "\n",
      "True 2 Test :\t 0.5513418549706185\n",
      "False 2 Test :\t 0.44865814502938145\n",
      "\n",
      "True 3 Test :\t 0.5180635838150289\n",
      "False 3 Test :\t 0.4819364161849711\n",
      "\n",
      "True 4 Test :\t 0.6974425661031642\n",
      "False 4 Test :\t 0.3025574338968357\n",
      "\n"
     ]
    }
   ],
   "source": [
    "print(\"Test Data\")\n",
    "print(\"Accuracy  :\\t\", brfc.score(X_test, y_test))\n",
    "print()\n",
    "\n",
    "cmTest = confusion_matrix(y_test, y_test_pred)\n",
    "true_2_test=cmTest[0][0]\n",
    "true_3_test=cmTest[1][1]\n",
    "true_4_test=cmTest[2][2]\n",
    "false_2_test=cmTest[0][1]+cmTest[0][2]\n",
    "false_3_test=cmTest[1][0]+cmTest[1][2]\n",
    "false_4_test=cmTest[2][0]+cmTest[2][1]\n",
    "\n",
    "print(\"True 2 Test :\\t\", (true_2_test/(true_2_test + false_2_test)))\n",
    "print(\"False 2 Test :\\t\", (false_2_test/(true_2_test + false_2_test)))\n",
    "print()\n",
    "\n",
    "print(\"True 3 Test :\\t\", (true_3_test/(true_3_test + false_3_test)))\n",
    "print(\"False 3 Test :\\t\", (false_3_test/(true_3_test + false_3_test)))\n",
    "print()\n",
    "\n",
    "print(\"True 4 Test :\\t\", (true_4_test/(true_4_test + false_4_test)))\n",
    "print(\"False 4 Test :\\t\", (false_4_test/(true_4_test + false_4_test)))\n",
    "print()"
   ]
  },
  {
   "cell_type": "markdown",
   "id": "91d3f921",
   "metadata": {},
   "source": [
    "The test data did not give as good result as the train data did. Explanation might be similar to the case for ```BalancedBaggingClassifier```, which is larger data can be more efficient in performing the balancing.\n",
    "\n",
    "One difference from the ```BalancedBaggingClassifier``` test data is that, for all levels of severity, the percentages of true are higher than the percentages of false. Whereas in the result of ```BalancedBaggingClassifier``` test data, prediction of severity level 3 is not as ideal."
   ]
  },
  {
   "cell_type": "markdown",
   "id": "bd4b7608",
   "metadata": {},
   "source": [
    "All in all, the two models from ```imblearn``` ```ensemble``` library used here perform quite well compared to the previous models where we need to upsample the data, and also using cross validation to find the best models in order to reach a higher accuracy level."
   ]
  },
  {
   "cell_type": "code",
   "execution_count": null,
   "id": "71417b6f",
   "metadata": {},
   "outputs": [],
   "source": []
  }
 ],
 "metadata": {
  "kernelspec": {
   "display_name": "Python 3",
   "language": "python",
   "name": "python3"
  },
  "language_info": {
   "codemirror_mode": {
    "name": "ipython",
    "version": 3
   },
   "file_extension": ".py",
   "mimetype": "text/x-python",
   "name": "python",
   "nbconvert_exporter": "python",
   "pygments_lexer": "ipython3",
   "version": "3.8.8"
  }
 },
 "nbformat": 4,
 "nbformat_minor": 5
}
